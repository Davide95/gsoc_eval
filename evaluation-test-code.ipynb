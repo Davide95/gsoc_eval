{
 "cells": [
  {
   "cell_type": "markdown",
   "metadata": {},
   "source": [
    "# Evaluation test - Code"
   ]
  },
  {
   "cell_type": "code",
   "execution_count": 23,
   "metadata": {},
   "outputs": [],
   "source": [
    "# Import statements\n",
    "from datetime import datetime \n",
    "import pytz"
   ]
  },
  {
   "cell_type": "code",
   "execution_count": 18,
   "metadata": {},
   "outputs": [],
   "source": [
    "hdf_file_path = '1541962108935000000_167_838.h5'"
   ]
  },
  {
   "cell_type": "code",
   "execution_count": 30,
   "metadata": {},
   "outputs": [
    {
     "name": "stdout",
     "output_type": "stream",
     "text": [
      "UTC:  2018-11-11 19:48:28+00:00\n",
      "Cern local time:  2018-11-11 19:48:28+01:00\n"
     ]
    }
   ],
   "source": [
    "digit_number = int(hdf_file_path[:18+1]) // (10**9) # String (nanosec) to int (sec)\n",
    "dt = datetime.fromtimestamp(digit_number)\n",
    "\n",
    "dt_utc = pytz.utc.localize(dt)\n",
    "print(\"UTC: \", dt_utc)\n",
    "dt_cern = pytz.timezone('CET').localize(dt)\n",
    "print(\"Cern local time: \", dt_cern)"
   ]
  },
  {
   "cell_type": "code",
   "execution_count": null,
   "metadata": {},
   "outputs": [],
   "source": []
  }
 ],
 "metadata": {
  "kernelspec": {
   "display_name": "Python 3",
   "language": "python",
   "name": "python3"
  },
  "language_info": {
   "codemirror_mode": {
    "name": "ipython",
    "version": 3
   },
   "file_extension": ".py",
   "mimetype": "text/x-python",
   "name": "python",
   "nbconvert_exporter": "python",
   "pygments_lexer": "ipython3",
   "version": "3.7.1"
  }
 },
 "nbformat": 4,
 "nbformat_minor": 2
}
