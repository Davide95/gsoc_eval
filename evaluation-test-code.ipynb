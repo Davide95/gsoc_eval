{
 "cells": [
  {
   "cell_type": "markdown",
   "metadata": {},
   "source": [
    "# Evaluation test - Code"
   ]
  },
  {
   "cell_type": "code",
   "execution_count": 1,
   "metadata": {},
   "outputs": [],
   "source": [
    "# Import statements\n",
    "from datetime import datetime \n",
    "import logging\n",
    "import pytz\n",
    "import h5py\n",
    "import csv"
   ]
  },
  {
   "cell_type": "code",
   "execution_count": 2,
   "metadata": {},
   "outputs": [],
   "source": [
    "# Logging config\n",
    "logger = logging.getLogger()\n",
    "logger.setLevel(logging.WARNING)"
   ]
  },
  {
   "cell_type": "code",
   "execution_count": 3,
   "metadata": {},
   "outputs": [],
   "source": [
    "hdf_file_path = '1541962108935000000_167_838.h5'"
   ]
  },
  {
   "cell_type": "code",
   "execution_count": 4,
   "metadata": {},
   "outputs": [
    {
     "name": "stdout",
     "output_type": "stream",
     "text": [
      "UTC:  2018-11-11 19:48:28+00:00\n",
      "Cern local time:  2018-11-11 19:48:28+01:00\n"
     ]
    }
   ],
   "source": [
    "# Task 1\n",
    "digit_number = int(hdf_file_path[:18+1]) // (10**9) # String (nanosec) to int (sec)\n",
    "dt = datetime.fromtimestamp(digit_number)\n",
    "\n",
    "dt_utc = pytz.utc.localize(dt)\n",
    "print(\"UTC: \", dt_utc)\n",
    "dt_cern = pytz.timezone('CET').localize(dt)\n",
    "print(\"Cern local time: \", dt_cern)"
   ]
  },
  {
   "cell_type": "code",
   "execution_count": 10,
   "metadata": {},
   "outputs": [],
   "source": [
    "# Task 2\n",
    "import io\n",
    "def visit(name, obj):   \n",
    "    if isinstance(obj, h5py.Dataset):\n",
    "        features = dataToList(name, obj)\n",
    "        \n",
    "        with open('data.csv', 'a', newline='') as csvfile:\n",
    "            csvwr = csv.writer(csvfile, delimiter=',', quotechar='\"')\n",
    "            csvwr.writerow(features)\n",
    "        \n",
    "def dataToList(name, obj):\n",
    "    output = []\n",
    "    \n",
    "    nameSep = name.split('/')\n",
    "    output.append('/'.join(nameSep[:-1]))\n",
    "    output.append(nameSep[-1])\n",
    "\n",
    "    try:\n",
    "        output.append(str(obj.dtype))\n",
    "    except TypeError as e:\n",
    "        # TypeBitfieldID is not supported right now, see https://github.com/h5py/h5py/issues/109\n",
    "        logger.info(f'\"{name}\" filetype not supported: {e}')\n",
    "        output.append('Not supported')\n",
    "    \n",
    "    output.append(str(obj.shape))\n",
    "    output.append(str(obj.size))\n",
    "    \n",
    "    return output\n",
    "\n",
    "with h5py.File(hdf_file_path, 'r') as file:\n",
    "    with open('data.csv', 'w', newline='') as csvfile:\n",
    "        print('groups-name,dataset-name,dtype,shape,size', file=csvfile)\n",
    "    \n",
    "    file.visititems(visit)"
   ]
  },
  {
   "cell_type": "code",
   "execution_count": null,
   "metadata": {},
   "outputs": [],
   "source": []
  }
 ],
 "metadata": {
  "kernelspec": {
   "display_name": "Python 3",
   "language": "python",
   "name": "python3"
  },
  "language_info": {
   "codemirror_mode": {
    "name": "ipython",
    "version": 3
   },
   "file_extension": ".py",
   "mimetype": "text/x-python",
   "name": "python",
   "nbconvert_exporter": "python",
   "pygments_lexer": "ipython3",
   "version": "3.7.1"
  }
 },
 "nbformat": 4,
 "nbformat_minor": 2
}
